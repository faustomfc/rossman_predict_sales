{
 "cells": [
  {
   "cell_type": "markdown",
   "id": "a18c49f1",
   "metadata": {},
   "source": [
    "# PREDICT SALES OF THE ROSSMAN STORES"
   ]
  },
  {
   "cell_type": "markdown",
   "id": "c0d1552e",
   "metadata": {},
   "source": [
    "This project aims to predict the sales of the Rossman Stores for next 6 weeks."
   ]
  },
  {
   "cell_type": "markdown",
   "id": "babc844a",
   "metadata": {},
   "source": [
    "# 0 - IMPORTS"
   ]
  },
  {
   "cell_type": "code",
   "execution_count": 22,
   "id": "b7b93625",
   "metadata": {
    "ExecuteTime": {
     "end_time": "2022-04-19T01:23:10.621808Z",
     "start_time": "2022-04-19T01:23:10.617938Z"
    }
   },
   "outputs": [],
   "source": [
    "import inflection\n",
    "import math\n",
    "\n",
    "import pandas              as pd\n",
    "import numpy               as np\n",
    "import seaborn             as sns\n",
    "import matplotlib.pyplot   as plt"
   ]
  },
  {
   "cell_type": "markdown",
   "id": "179aeb48",
   "metadata": {},
   "source": [
    "## 0.1 - Helper functions"
   ]
  },
  {
   "cell_type": "code",
   "execution_count": null,
   "id": "4316eaba",
   "metadata": {},
   "outputs": [],
   "source": []
  },
  {
   "cell_type": "markdown",
   "id": "86150262",
   "metadata": {},
   "source": [
    "## 0.2 - Loading data"
   ]
  },
  {
   "cell_type": "code",
   "execution_count": 2,
   "id": "0dda49c5",
   "metadata": {
    "ExecuteTime": {
     "end_time": "2022-04-19T01:04:34.385037Z",
     "start_time": "2022-04-19T01:04:33.393598Z"
    }
   },
   "outputs": [],
   "source": [
    "# dataset\n",
    "df_sales = pd.read_csv('dataset/train.csv', low_memory=False)\n",
    "df_stores = pd.read_csv('dataset/store.csv', low_memory=False)\n",
    "\n",
    "# merge\n",
    "df_raw = pd.merge(df_sales, df_stores, how='left', on='Store')"
   ]
  },
  {
   "cell_type": "markdown",
   "id": "9879e58a",
   "metadata": {
    "ExecuteTime": {
     "end_time": "2022-04-18T02:25:32.465438Z",
     "start_time": "2022-04-18T02:25:32.345465Z"
    }
   },
   "source": [
    "# 1 - DATA DESCRIPTION"
   ]
  },
  {
   "cell_type": "code",
   "execution_count": 3,
   "id": "998bc546",
   "metadata": {
    "ExecuteTime": {
     "end_time": "2022-04-19T01:04:34.647544Z",
     "start_time": "2022-04-19T01:04:34.433607Z"
    }
   },
   "outputs": [],
   "source": [
    "df1 = df_raw.copy()"
   ]
  },
  {
   "cell_type": "markdown",
   "id": "50cd146b",
   "metadata": {},
   "source": [
    "## 1.1 - Rename columns"
   ]
  },
  {
   "cell_type": "code",
   "execution_count": 4,
   "id": "7717fe8d",
   "metadata": {
    "ExecuteTime": {
     "end_time": "2022-04-19T01:04:35.711592Z",
     "start_time": "2022-04-19T01:04:35.706429Z"
    }
   },
   "outputs": [],
   "source": [
    "cols_old = ['Store', 'DayOfWeek', 'Date', 'Sales', 'Customers', 'Open', 'Promo', 'StateHoliday', 'SchoolHoliday',\n",
    "            'Id', 'StoreType', 'Assortment', 'CompetitionDistance', 'CompetitionOpenSinceMonth',\n",
    "            'CompetitionOpenSinceYear', 'Promo2', 'Promo2SinceWeek', 'Promo2SinceYear', 'PromoInterval']\n",
    "\n",
    "snakecase = lambda x: inflection.underscore(x)\n",
    "cols_new = list(map(snakecase, cols_old))\n",
    "\n",
    "# rename columns\n",
    "df1.columns = cols_new"
   ]
  },
  {
   "cell_type": "markdown",
   "id": "0bca8f98",
   "metadata": {},
   "source": [
    "## 1.2 - Data dimensions"
   ]
  },
  {
   "cell_type": "code",
   "execution_count": 5,
   "id": "f7db132e",
   "metadata": {
    "ExecuteTime": {
     "end_time": "2022-04-19T01:04:36.881158Z",
     "start_time": "2022-04-19T01:04:36.876880Z"
    }
   },
   "outputs": [
    {
     "name": "stdout",
     "output_type": "stream",
     "text": [
      "Number of rows: 1001599\n",
      "Number of columns: 19\n"
     ]
    }
   ],
   "source": [
    "print('Number of rows: {}'.format(df1.shape[0]))\n",
    "print('Number of columns: {}'.format(df1.shape[1]))"
   ]
  },
  {
   "cell_type": "markdown",
   "id": "e0d44478",
   "metadata": {},
   "source": [
    "## 1.3 - Data types"
   ]
  },
  {
   "cell_type": "code",
   "execution_count": 6,
   "id": "6b7da672",
   "metadata": {
    "ExecuteTime": {
     "end_time": "2022-04-19T01:04:38.304660Z",
     "start_time": "2022-04-19T01:04:38.290671Z"
    }
   },
   "outputs": [
    {
     "data": {
      "text/plain": [
       "store                             int64\n",
       "day_of_week                       int64\n",
       "date                             object\n",
       "sales                             int64\n",
       "customers                         int64\n",
       "open                              int64\n",
       "promo                             int64\n",
       "state_holiday                    object\n",
       "school_holiday                    int64\n",
       "id                                int64\n",
       "store_type                       object\n",
       "assortment                       object\n",
       "competition_distance            float64\n",
       "competition_open_since_month    float64\n",
       "competition_open_since_year     float64\n",
       "promo2                            int64\n",
       "promo2_since_week               float64\n",
       "promo2_since_year               float64\n",
       "promo_interval                   object\n",
       "dtype: object"
      ]
     },
     "execution_count": 6,
     "metadata": {},
     "output_type": "execute_result"
    }
   ],
   "source": [
    "df1.dtypes"
   ]
  },
  {
   "cell_type": "code",
   "execution_count": 7,
   "id": "38ae66fc",
   "metadata": {
    "ExecuteTime": {
     "end_time": "2022-04-19T01:04:39.306214Z",
     "start_time": "2022-04-19T01:04:39.182294Z"
    }
   },
   "outputs": [
    {
     "data": {
      "text/plain": [
       "store                                    int64\n",
       "day_of_week                              int64\n",
       "date                            datetime64[ns]\n",
       "sales                                    int64\n",
       "customers                                int64\n",
       "open                                     int64\n",
       "promo                                    int64\n",
       "state_holiday                           object\n",
       "school_holiday                           int64\n",
       "id                                       int64\n",
       "store_type                              object\n",
       "assortment                              object\n",
       "competition_distance                   float64\n",
       "competition_open_since_month           float64\n",
       "competition_open_since_year            float64\n",
       "promo2                                   int64\n",
       "promo2_since_week                      float64\n",
       "promo2_since_year                      float64\n",
       "promo_interval                          object\n",
       "dtype: object"
      ]
     },
     "execution_count": 7,
     "metadata": {},
     "output_type": "execute_result"
    }
   ],
   "source": [
    "df1['date'] = pd.to_datetime(df1['date'])\n",
    "df1.dtypes"
   ]
  },
  {
   "cell_type": "markdown",
   "id": "2167c71b",
   "metadata": {},
   "source": [
    "## 1.4 - Check NA"
   ]
  },
  {
   "cell_type": "code",
   "execution_count": 8,
   "id": "4d3add2a",
   "metadata": {
    "ExecuteTime": {
     "end_time": "2022-04-19T01:04:45.823148Z",
     "start_time": "2022-04-19T01:04:45.261475Z"
    }
   },
   "outputs": [
    {
     "data": {
      "text/plain": [
       "store                                0\n",
       "day_of_week                          0\n",
       "date                                 0\n",
       "sales                                0\n",
       "customers                            0\n",
       "open                                 0\n",
       "promo                                0\n",
       "state_holiday                        0\n",
       "school_holiday                       0\n",
       "id                                   0\n",
       "store_type                           0\n",
       "assortment                           0\n",
       "competition_distance              2600\n",
       "competition_open_since_month    318392\n",
       "competition_open_since_year     318392\n",
       "promo2                               0\n",
       "promo2_since_week               500415\n",
       "promo2_since_year               500415\n",
       "promo_interval                  500415\n",
       "dtype: int64"
      ]
     },
     "execution_count": 8,
     "metadata": {},
     "output_type": "execute_result"
    }
   ],
   "source": [
    "df1.isna().sum()"
   ]
  },
  {
   "cell_type": "markdown",
   "id": "d5e6fd3d",
   "metadata": {},
   "source": [
    "## 1.5 - Fillout NA"
   ]
  },
  {
   "cell_type": "code",
   "execution_count": 9,
   "id": "3de2a37b",
   "metadata": {
    "ExecuteTime": {
     "end_time": "2022-04-19T01:06:34.226938Z",
     "start_time": "2022-04-19T01:04:50.657161Z"
    }
   },
   "outputs": [],
   "source": [
    "# competition distance\n",
    "df1['competition_distance'] = df1['competition_distance'].apply(lambda x: 200000.0 if math.isnan(x) else x)\n",
    "\n",
    "# competition_open_since_month\n",
    "df1['competition_open_since_month'] = df1[['competition_open_since_month', 'date']].apply(lambda x: x['date'].month if math.isnan(x['competition_open_since_month']) else \n",
    "                                                                                                    x['competition_open_since_month'], axis=1)\n",
    "\n",
    "# competition_open_since_year\n",
    "df1['competition_open_since_year'] = df1[['competition_open_since_year', 'date']].apply(lambda x: x['date'].year if math.isnan(x['competition_open_since_year']) else\n",
    "                                                                                                  x['competition_open_since_year'], axis=1)\n",
    "\n",
    "# promo2_since_week\n",
    "df1['promo2_since_week'] = df1[['promo2_since_week', 'date']].apply(lambda x: x['date'].week if math.isnan(x['promo2_since_week']) else \n",
    "                                                                              x['promo2_since_week'], axis=1)\n",
    "\n",
    "# promo2_since_year\n",
    "df1['promo2_since_year'] = df1[['promo2_since_year', 'date']].apply(lambda x: x['date'].year if math.isnan(x['promo2_since_year']) else\n",
    "                                                                              x['promo2_since_year'], axis=1)\n",
    "\n",
    "# promo_interval\n",
    "month_map = {1: 'Jan', 2: 'Feb', 3: 'Mar', 4: 'Apr', 5: 'May', 6: 'Jun', 7: 'Jul', 8: 'Aug', 9: 'Sep', 10: 'Oct', 11: 'Nov', 12: 'Dec'}\n",
    "df1['promo_interval'].fillna(0, inplace=True)\n",
    "df1['month_map'] = df1['date'].dt.month.map(month_map)\n",
    "\n",
    "df1['is_promo'] = df1[['promo_interval', 'month_map']].apply(lambda x: 0 if x['promo_interval']==0 else\n",
    "                                                                       1 if x['month_map'] in x['promo_interval'].split(',') else\n",
    "                                                                       0, axis=1)"
   ]
  },
  {
   "cell_type": "code",
   "execution_count": 10,
   "id": "42e38453",
   "metadata": {
    "ExecuteTime": {
     "end_time": "2022-04-19T01:06:35.198360Z",
     "start_time": "2022-04-19T01:06:34.436534Z"
    }
   },
   "outputs": [
    {
     "data": {
      "text/plain": [
       "store                           0\n",
       "day_of_week                     0\n",
       "date                            0\n",
       "sales                           0\n",
       "customers                       0\n",
       "open                            0\n",
       "promo                           0\n",
       "state_holiday                   0\n",
       "school_holiday                  0\n",
       "id                              0\n",
       "store_type                      0\n",
       "assortment                      0\n",
       "competition_distance            0\n",
       "competition_open_since_month    0\n",
       "competition_open_since_year     0\n",
       "promo2                          0\n",
       "promo2_since_week               0\n",
       "promo2_since_year               0\n",
       "promo_interval                  0\n",
       "month_map                       0\n",
       "is_promo                        0\n",
       "dtype: int64"
      ]
     },
     "execution_count": 10,
     "metadata": {},
     "output_type": "execute_result"
    }
   ],
   "source": [
    "df1.isna().sum()"
   ]
  },
  {
   "cell_type": "markdown",
   "id": "f0bd7be1",
   "metadata": {},
   "source": [
    "## 1.6 - Change data types"
   ]
  },
  {
   "cell_type": "code",
   "execution_count": 11,
   "id": "7618c82f",
   "metadata": {
    "ExecuteTime": {
     "end_time": "2022-04-19T01:09:06.649212Z",
     "start_time": "2022-04-19T01:09:06.607267Z"
    }
   },
   "outputs": [],
   "source": [
    "# competition_open_since_month\n",
    "df1['competition_open_since_month'] = df1['competition_open_since_month'].astype(int)\n",
    "\n",
    "# competition_open_since_year\n",
    "df1['competition_open_since_year'] = df1['competition_open_since_year'].astype(int)\n",
    "\n",
    "# promo2_since_week\n",
    "df1['promo2_since_week'] = df1['promo2_since_week'].astype(int)\n",
    "\n",
    "# promo2_since_year\n",
    "df1['promo2_since_year'] = df1['promo2_since_year'].astype(int)"
   ]
  },
  {
   "cell_type": "markdown",
   "id": "4bc8b140",
   "metadata": {},
   "source": [
    "## 1.7 - Descriptive statistics"
   ]
  },
  {
   "cell_type": "code",
   "execution_count": 12,
   "id": "8c265521",
   "metadata": {
    "ExecuteTime": {
     "end_time": "2022-04-19T01:10:59.087494Z",
     "start_time": "2022-04-19T01:10:59.081881Z"
    }
   },
   "outputs": [],
   "source": [
    "num_attributes = df1.select_dtypes(include=['int64', 'float64'])\n",
    "cat_attributes = df1.select_dtypes(exclude=['int64', 'float64', 'datetime64[ns]'])"
   ]
  },
  {
   "cell_type": "markdown",
   "id": "36457755",
   "metadata": {},
   "source": [
    "### 1.7.1 - Numerical attributes"
   ]
  },
  {
   "cell_type": "code",
   "execution_count": 14,
   "id": "2eea260e",
   "metadata": {
    "ExecuteTime": {
     "end_time": "2022-04-19T01:17:42.691822Z",
     "start_time": "2022-04-19T01:17:39.480932Z"
    }
   },
   "outputs": [
    {
     "data": {
      "text/html": [
       "<div>\n",
       "<style scoped>\n",
       "    .dataframe tbody tr th:only-of-type {\n",
       "        vertical-align: middle;\n",
       "    }\n",
       "\n",
       "    .dataframe tbody tr th {\n",
       "        vertical-align: top;\n",
       "    }\n",
       "\n",
       "    .dataframe thead th {\n",
       "        text-align: right;\n",
       "    }\n",
       "</style>\n",
       "<table border=\"1\" class=\"dataframe\">\n",
       "  <thead>\n",
       "    <tr style=\"text-align: right;\">\n",
       "      <th></th>\n",
       "      <th>attributes</th>\n",
       "      <th>min</th>\n",
       "      <th>max</th>\n",
       "      <th>range</th>\n",
       "      <th>mean</th>\n",
       "      <th>median</th>\n",
       "      <th>std</th>\n",
       "      <th>skew</th>\n",
       "      <th>kurtosis</th>\n",
       "    </tr>\n",
       "  </thead>\n",
       "  <tbody>\n",
       "    <tr>\n",
       "      <th>0</th>\n",
       "      <td>store</td>\n",
       "      <td>1.0</td>\n",
       "      <td>1115.0</td>\n",
       "      <td>1114.0</td>\n",
       "      <td>558.436424</td>\n",
       "      <td>558.0</td>\n",
       "      <td>321.909047</td>\n",
       "      <td>-0.000970</td>\n",
       "      <td>-1.200532</td>\n",
       "    </tr>\n",
       "    <tr>\n",
       "      <th>1</th>\n",
       "      <td>day_of_week</td>\n",
       "      <td>1.0</td>\n",
       "      <td>7.0</td>\n",
       "      <td>6.0</td>\n",
       "      <td>3.998315</td>\n",
       "      <td>4.0</td>\n",
       "      <td>1.997349</td>\n",
       "      <td>0.001618</td>\n",
       "      <td>-1.246824</td>\n",
       "    </tr>\n",
       "    <tr>\n",
       "      <th>2</th>\n",
       "      <td>sales</td>\n",
       "      <td>0.0</td>\n",
       "      <td>41551.0</td>\n",
       "      <td>41551.0</td>\n",
       "      <td>5770.573039</td>\n",
       "      <td>5741.0</td>\n",
       "      <td>3852.565888</td>\n",
       "      <td>0.643199</td>\n",
       "      <td>1.780100</td>\n",
       "    </tr>\n",
       "    <tr>\n",
       "      <th>3</th>\n",
       "      <td>customers</td>\n",
       "      <td>0.0</td>\n",
       "      <td>7388.0</td>\n",
       "      <td>7388.0</td>\n",
       "      <td>633.302988</td>\n",
       "      <td>610.0</td>\n",
       "      <td>464.942753</td>\n",
       "      <td>1.596438</td>\n",
       "      <td>7.073761</td>\n",
       "    </tr>\n",
       "    <tr>\n",
       "      <th>4</th>\n",
       "      <td>open</td>\n",
       "      <td>0.0</td>\n",
       "      <td>1.0</td>\n",
       "      <td>1.0</td>\n",
       "      <td>0.829645</td>\n",
       "      <td>1.0</td>\n",
       "      <td>0.375944</td>\n",
       "      <td>-1.753697</td>\n",
       "      <td>1.075454</td>\n",
       "    </tr>\n",
       "    <tr>\n",
       "      <th>5</th>\n",
       "      <td>promo</td>\n",
       "      <td>0.0</td>\n",
       "      <td>1.0</td>\n",
       "      <td>1.0</td>\n",
       "      <td>0.381894</td>\n",
       "      <td>0.0</td>\n",
       "      <td>0.485851</td>\n",
       "      <td>0.486181</td>\n",
       "      <td>-1.763631</td>\n",
       "    </tr>\n",
       "    <tr>\n",
       "      <th>6</th>\n",
       "      <td>school_holiday</td>\n",
       "      <td>0.0</td>\n",
       "      <td>1.0</td>\n",
       "      <td>1.0</td>\n",
       "      <td>0.173460</td>\n",
       "      <td>0.0</td>\n",
       "      <td>0.378644</td>\n",
       "      <td>1.724790</td>\n",
       "      <td>0.974903</td>\n",
       "    </tr>\n",
       "    <tr>\n",
       "      <th>7</th>\n",
       "      <td>id</td>\n",
       "      <td>0.0</td>\n",
       "      <td>1017207.0</td>\n",
       "      <td>1017207.0</td>\n",
       "      <td>508518.856749</td>\n",
       "      <td>508810.0</td>\n",
       "      <td>293464.542300</td>\n",
       "      <td>-0.000361</td>\n",
       "      <td>-1.199537</td>\n",
       "    </tr>\n",
       "    <tr>\n",
       "      <th>8</th>\n",
       "      <td>competition_distance</td>\n",
       "      <td>20.0</td>\n",
       "      <td>200000.0</td>\n",
       "      <td>199980.0</td>\n",
       "      <td>5935.551264</td>\n",
       "      <td>2330.0</td>\n",
       "      <td>12545.981696</td>\n",
       "      <td>10.241280</td>\n",
       "      <td>147.787195</td>\n",
       "    </tr>\n",
       "    <tr>\n",
       "      <th>9</th>\n",
       "      <td>competition_open_since_month</td>\n",
       "      <td>1.0</td>\n",
       "      <td>12.0</td>\n",
       "      <td>11.0</td>\n",
       "      <td>6.781137</td>\n",
       "      <td>7.0</td>\n",
       "      <td>3.319975</td>\n",
       "      <td>-0.039549</td>\n",
       "      <td>-1.241021</td>\n",
       "    </tr>\n",
       "    <tr>\n",
       "      <th>10</th>\n",
       "      <td>competition_open_since_year</td>\n",
       "      <td>1900.0</td>\n",
       "      <td>2015.0</td>\n",
       "      <td>115.0</td>\n",
       "      <td>2010.319321</td>\n",
       "      <td>2012.0</td>\n",
       "      <td>5.509146</td>\n",
       "      <td>-7.241080</td>\n",
       "      <td>124.259548</td>\n",
       "    </tr>\n",
       "    <tr>\n",
       "      <th>11</th>\n",
       "      <td>promo2</td>\n",
       "      <td>0.0</td>\n",
       "      <td>1.0</td>\n",
       "      <td>1.0</td>\n",
       "      <td>0.500384</td>\n",
       "      <td>1.0</td>\n",
       "      <td>0.500000</td>\n",
       "      <td>-0.001536</td>\n",
       "      <td>-2.000002</td>\n",
       "    </tr>\n",
       "    <tr>\n",
       "      <th>12</th>\n",
       "      <td>promo2_since_week</td>\n",
       "      <td>1.0</td>\n",
       "      <td>52.0</td>\n",
       "      <td>51.0</td>\n",
       "      <td>23.569072</td>\n",
       "      <td>22.0</td>\n",
       "      <td>14.354062</td>\n",
       "      <td>0.189001</td>\n",
       "      <td>-1.188133</td>\n",
       "    </tr>\n",
       "    <tr>\n",
       "      <th>13</th>\n",
       "      <td>promo2_since_year</td>\n",
       "      <td>2009.0</td>\n",
       "      <td>2015.0</td>\n",
       "      <td>6.0</td>\n",
       "      <td>2012.784736</td>\n",
       "      <td>2013.0</td>\n",
       "      <td>1.655173</td>\n",
       "      <td>-0.791887</td>\n",
       "      <td>-0.194313</td>\n",
       "    </tr>\n",
       "    <tr>\n",
       "      <th>14</th>\n",
       "      <td>is_promo</td>\n",
       "      <td>0.0</td>\n",
       "      <td>1.0</td>\n",
       "      <td>1.0</td>\n",
       "      <td>0.163870</td>\n",
       "      <td>0.0</td>\n",
       "      <td>0.370158</td>\n",
       "      <td>1.816149</td>\n",
       "      <td>1.298398</td>\n",
       "    </tr>\n",
       "  </tbody>\n",
       "</table>\n",
       "</div>"
      ],
      "text/plain": [
       "                      attributes     min        max      range           mean  \\\n",
       "0                          store     1.0     1115.0     1114.0     558.436424   \n",
       "1                    day_of_week     1.0        7.0        6.0       3.998315   \n",
       "2                          sales     0.0    41551.0    41551.0    5770.573039   \n",
       "3                      customers     0.0     7388.0     7388.0     633.302988   \n",
       "4                           open     0.0        1.0        1.0       0.829645   \n",
       "5                          promo     0.0        1.0        1.0       0.381894   \n",
       "6                 school_holiday     0.0        1.0        1.0       0.173460   \n",
       "7                             id     0.0  1017207.0  1017207.0  508518.856749   \n",
       "8           competition_distance    20.0   200000.0   199980.0    5935.551264   \n",
       "9   competition_open_since_month     1.0       12.0       11.0       6.781137   \n",
       "10   competition_open_since_year  1900.0     2015.0      115.0    2010.319321   \n",
       "11                        promo2     0.0        1.0        1.0       0.500384   \n",
       "12             promo2_since_week     1.0       52.0       51.0      23.569072   \n",
       "13             promo2_since_year  2009.0     2015.0        6.0    2012.784736   \n",
       "14                      is_promo     0.0        1.0        1.0       0.163870   \n",
       "\n",
       "      median            std       skew    kurtosis  \n",
       "0      558.0     321.909047  -0.000970   -1.200532  \n",
       "1        4.0       1.997349   0.001618   -1.246824  \n",
       "2     5741.0    3852.565888   0.643199    1.780100  \n",
       "3      610.0     464.942753   1.596438    7.073761  \n",
       "4        1.0       0.375944  -1.753697    1.075454  \n",
       "5        0.0       0.485851   0.486181   -1.763631  \n",
       "6        0.0       0.378644   1.724790    0.974903  \n",
       "7   508810.0  293464.542300  -0.000361   -1.199537  \n",
       "8     2330.0   12545.981696  10.241280  147.787195  \n",
       "9        7.0       3.319975  -0.039549   -1.241021  \n",
       "10    2012.0       5.509146  -7.241080  124.259548  \n",
       "11       1.0       0.500000  -0.001536   -2.000002  \n",
       "12      22.0      14.354062   0.189001   -1.188133  \n",
       "13    2013.0       1.655173  -0.791887   -0.194313  \n",
       "14       0.0       0.370158   1.816149    1.298398  "
      ]
     },
     "execution_count": 14,
     "metadata": {},
     "output_type": "execute_result"
    }
   ],
   "source": [
    "# Central Tendency - mean and median\n",
    "ct1 = pd.DataFrame(num_attributes.apply(np.mean)).T\n",
    "ct2 = pd.DataFrame(num_attributes.apply(np.median)).T\n",
    "\n",
    "# Dispersion - std, min, max, range, skew, kurtosis\n",
    "d1 = pd.DataFrame(num_attributes.apply(np.std)).T\n",
    "d2 = pd.DataFrame(num_attributes.apply(min)).T\n",
    "d3 = pd.DataFrame(num_attributes.apply(max)).T\n",
    "d4 = pd.DataFrame(num_attributes.apply(lambda x: x.max() - x.min())).T\n",
    "d5 = pd.DataFrame(num_attributes.apply(lambda x: x.skew())).T\n",
    "d6 = pd.DataFrame(num_attributes.apply(lambda x: x.kurtosis())).T\n",
    "\n",
    "# Concat\n",
    "m = pd.concat([d2, d3, d4, ct1, ct2, d1, d5, d6]).T.reset_index()\n",
    "m.columns = ['attributes', 'min', 'max', 'range', 'mean', 'median', 'std', 'skew', 'kurtosis']\n",
    "m"
   ]
  },
  {
   "cell_type": "code",
   "execution_count": 24,
   "id": "4d97e36c",
   "metadata": {
    "ExecuteTime": {
     "end_time": "2022-04-19T01:24:20.255283Z",
     "start_time": "2022-04-19T01:24:19.551136Z"
    }
   },
   "outputs": [
    {
     "data": {
      "image/png": "[encoded data removed]",
      "text/plain": [
       "<Figure size 1008x504 with 1 Axes>"
      ]
     },
     "metadata": {
      "needs_background": "light"
     },
     "output_type": "display_data"
    }
   ],
   "source": [
    "plt.figure(figsize=(14,7)) \n",
    "sns.histplot(df1['competition_distance'], kde=False, bins=50);"
   ]
  },
  {
   "cell_type": "markdown",
   "id": "8216fcfd",
   "metadata": {},
   "source": [
    "### 1.7.2 - Categorical attributes"
   ]
  },
  {
   "cell_type": "code",
   "execution_count": 25,
   "id": "39df30b5",
   "metadata": {
    "ExecuteTime": {
     "end_time": "2022-04-19T01:25:18.468238Z",
     "start_time": "2022-04-19T01:25:18.247559Z"
    }
   },
   "outputs": [
    {
     "data": {
      "text/plain": [
       "state_holiday      4\n",
       "store_type         4\n",
       "assortment         3\n",
       "promo_interval     4\n",
       "month_map         12\n",
       "dtype: int64"
      ]
     },
     "execution_count": 25,
     "metadata": {},
     "output_type": "execute_result"
    }
   ],
   "source": [
    "cat_attributes.apply(lambda x: x.unique().shape[0])"
   ]
  },
  {
   "cell_type": "code",
   "execution_count": 28,
   "id": "5b80a74d",
   "metadata": {
    "ExecuteTime": {
     "end_time": "2022-04-19T01:28:41.951540Z",
     "start_time": "2022-04-19T01:28:41.415612Z"
    }
   },
   "outputs": [
    {
     "data": {
      "image/png": "[encoded data removed]",
      "text/plain": [
       "<Figure size 1008x504 with 3 Axes>"
      ]
     },
     "metadata": {
      "needs_background": "light"
     },
     "output_type": "display_data"
    }
   ],
   "source": [
    "aux = df1[(df1['state_holiday']!='0') & (df1['sales']>0)]\n",
    "\n",
    "plt.figure(figsize=(14,7)) \n",
    "plt.subplot(1, 3, 1)\n",
    "sns.boxplot(x='state_holiday', y='sales', data=aux)\n",
    "\n",
    "plt.subplot(1, 3, 2)\n",
    "sns.boxplot(x='store_type', y='sales', data=aux)\n",
    "\n",
    "plt.subplot(1, 3, 3)\n",
    "sns.boxplot(x='assortment', y='sales', data=aux);"
   ]
  },
  {
   "cell_type": "code",
   "execution_count": null,
   "id": "abe61300",
   "metadata": {},
   "outputs": [],
   "source": []
  }
 ],
 "metadata": {
  "hide_input": false,
  "kernelspec": {
   "display_name": "Python 3 (ipykernel)",
   "language": "python",
   "name": "python3"
  },
  "language_info": {
   "codemirror_mode": {
    "name": "ipython",
    "version": 3
   },
   "file_extension": ".py",
   "mimetype": "text/x-python",
   "name": "python",
   "nbconvert_exporter": "python",
   "pygments_lexer": "ipython3",
   "version": "3.8.10"
  },
  "varInspector": {
   "cols": {
    "lenName": 16,
    "lenType": 16,
    "lenVar": 40
   },
   "kernels_config": {
    "python": {
     "delete_cmd_postfix": "",
     "delete_cmd_prefix": "del ",
     "library": "var_list.py",
     "varRefreshCmd": "print(var_dic_list())"
    },
    "r": {
     "delete_cmd_postfix": ") ",
     "delete_cmd_prefix": "rm(",
     "library": "var_list.r",
     "varRefreshCmd": "cat(var_dic_list()) "
    }
   },
   "types_to_exclude": [
    "module",
    "function",
    "builtin_function_or_method",
    "instance",
    "_Feature"
   ],
   "window_display": false
  }
 },
 "nbformat": 4,
 "nbformat_minor": 5
}
